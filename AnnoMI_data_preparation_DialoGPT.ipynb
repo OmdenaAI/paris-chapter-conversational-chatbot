{
  "nbformat": 4,
  "nbformat_minor": 0,
  "metadata": {
    "colab": {
      "provenance": []
    },
    "kernelspec": {
      "name": "python3",
      "display_name": "Python 3"
    },
    "language_info": {
      "name": "python"
    }
  },
  "cells": [
    {
      "cell_type": "code",
      "execution_count": 3,
      "metadata": {
        "colab": {
          "base_uri": "https://localhost:8080/"
        },
        "id": "0UAgi9if71d1",
        "outputId": "8328defd-98db-439f-fee1-258648cb77e2"
      },
      "outputs": [
        {
          "output_type": "stream",
          "name": "stdout",
          "text": [
            "Mounted at /content/drive/\n"
          ]
        }
      ],
      "source": [
        "from google.colab import drive\n",
        "import pandas as pd\n",
        "drive.mount('/content/drive/')"
      ]
    },
    {
      "cell_type": "code",
      "source": [
        "%cd \"drive/MyDrive/Conversational AI Chatbot  for the Disabled\"\n"
      ],
      "metadata": {
        "colab": {
          "base_uri": "https://localhost:8080/"
        },
        "id": "-6yeS_4073Er",
        "outputId": "28a07573-64c5-48a7-f727-493aebad8fb1"
      },
      "execution_count": 4,
      "outputs": [
        {
          "output_type": "stream",
          "name": "stdout",
          "text": [
            "/content/drive/MyDrive/Conversational AI Chatbot  for the Disabled\n"
          ]
        }
      ]
    },
    {
      "cell_type": "code",
      "source": [
        "df2 = pd.read_csv('AnnoMI_dataset.csv')"
      ],
      "metadata": {
        "id": "B6qSw4DC7956"
      },
      "execution_count": 5,
      "outputs": []
    },
    {
      "cell_type": "code",
      "source": [
        "df2['topic'].unique()"
      ],
      "metadata": {
        "colab": {
          "base_uri": "https://localhost:8080/"
        },
        "id": "cjqxF4Vb7_oM",
        "outputId": "8b060dec-c618-434a-ab8c-cf1c86fae2a3"
      },
      "execution_count": 6,
      "outputs": [
        {
          "output_type": "execute_result",
          "data": {
            "text/plain": [
              "array(['reducing alcohol consumption', 'weight loss; diet',\n",
              "       'problem recognition', 'better oral health', 'reducing recidivism',\n",
              "       'asthma management', 'smoking cessation ', 'diabetes management',\n",
              "       'taking medicine / following medical procedure', 'weight loss',\n",
              "       'reducing gambling',\n",
              "       'supporting client to live in more alignment with her values',\n",
              "       'anxiety management', 'compliance with rules', 'charging battery',\n",
              "       'more exercise / increasing activity; weight loss',\n",
              "       'changing approach to disease', 'reducing violence',\n",
              "       'reducing drug use', 'unidentifiable',\n",
              "       'increasing self-confidence', 'opening up',\n",
              "       'reducing coffee consumption',\n",
              "       'more exercise / increasing activity',\n",
              "       'not getting into a car with someone who is under the influence of drugs or alcohol',\n",
              "       'increasing activity; taking medicine / following medical procedure',\n",
              "       'completion of community service', 'smoking cessation',\n",
              "       'providing information on medicines',\n",
              "       'reducing alcohol consumption; compliance with rules',\n",
              "       'recognising success',\n",
              "       'Being assertive with flatmate about moving out',\n",
              "       'reducing self-harm', 'avoiding DOI',\n",
              "       'engaging in community activities',\n",
              "       'reducing alcohol consumption; safe sex',\n",
              "       'taking steps towards getting help with day-care',\n",
              "       'reducing drug use; following medical procedure',\n",
              "       'overcoming issues at school', 'diagnosis', 'managing life',\n",
              "       'smoking cessation; reducing alcohol consumption', 'birth control',\n",
              "       'diet; reducing alcohol consumption; diabetes management'],\n",
              "      dtype=object)"
            ]
          },
          "metadata": {},
          "execution_count": 6
        }
      ]
    },
    {
      "cell_type": "markdown",
      "source": [
        "## Prepare Dataset as the required shape for DialoGPT"
      ],
      "metadata": {
        "id": "h-ueL-sNhfjM"
      }
    },
    {
      "cell_type": "code",
      "source": [
        "def rows_to_cols(row_val):\n",
        "  contexted = []\n",
        "  # number of turns - This could be treated as a hyperparameter.\n",
        "  n = 7\n",
        "  row_val.reset_index(inplace=True)\n",
        "  #update the loop 3shan lw feeh 7aga el-length bta3ha 10 or less mayedrabsh\n",
        "  for i in range(n, len(row_val['utterance_text'])):\n",
        "    row = []\n",
        "    # print('here')\n",
        "    prev = i - 1 - n # we additionally substract 1, so row will contain current responce and 7 previous responces  \n",
        "    for j in range(i, prev, -1):\n",
        "      # print(row_val['utterance_text'])\n",
        "      # print(row_val['transcript_id'])\n",
        "\n",
        "      row.append(row_val['utterance_text'][j])\n",
        "      # print('hi')\n",
        "    contexted.append(row)  \n",
        "\n",
        "  columns = ['response', 'context'] \n",
        "  columns = columns + ['context/'+str(i) for i in range(n-1)]\n",
        "  df = pd.DataFrame.from_records(contexted, columns=columns)\n",
        "  return df"
      ],
      "metadata": {
        "id": "Ye01ndh28CXJ"
      },
      "execution_count": 7,
      "outputs": []
    },
    {
      "cell_type": "code",
      "source": [],
      "metadata": {
        "id": "a2Jelpj6g8Xm"
      },
      "execution_count": null,
      "outputs": []
    },
    {
      "cell_type": "code",
      "source": [
        "#apply this function to each group\n",
        "df2_grp = df2.groupby('transcript_id').apply(rows_to_cols)"
      ],
      "metadata": {
        "id": "YNtS2KBO8NDO"
      },
      "execution_count": 8,
      "outputs": []
    },
    {
      "cell_type": "code",
      "source": [
        "df2_grp.shape"
      ],
      "metadata": {
        "colab": {
          "base_uri": "https://localhost:8080/"
        },
        "id": "OKbeNULJhoVS",
        "outputId": "860bb3f5-e336-4dec-dcea-c90ef6372274"
      },
      "execution_count": 10,
      "outputs": [
        {
          "output_type": "execute_result",
          "data": {
            "text/plain": [
              "(8769, 8)"
            ]
          },
          "metadata": {},
          "execution_count": 10
        }
      ]
    },
    {
      "cell_type": "code",
      "source": [
        "df2_grp.to_csv('AnnoMI_reshaped_for_DialoGPT_n=7.csv')"
      ],
      "metadata": {
        "id": "ENOv2sr3ho7m"
      },
      "execution_count": 11,
      "outputs": []
    },
    {
      "cell_type": "code",
      "source": [
        "df2_grp.head()"
      ],
      "metadata": {
        "colab": {
          "base_uri": "https://localhost:8080/",
          "height": 455
        },
        "id": "ooL3zqA4g_HP",
        "outputId": "e29da69a-3240-48aa-ae32-600f99d0c94c"
      },
      "execution_count": 9,
      "outputs": [
        {
          "output_type": "execute_result",
          "data": {
            "text/plain": [
              "                                                          response  \\\n",
              "transcript_id                                                        \n",
              "0             0                               Something like that.   \n",
              "              1  Okay. Just so you know, my role, um, when we t...   \n",
              "              2                                              Okay.   \n",
              "              3  Uh, what else can you tell me about your drink...   \n",
              "              4  Well, I usually drink when I'm at home trying ...   \n",
              "\n",
              "                                                           context  \\\n",
              "transcript_id                                                        \n",
              "0             0            Okay. That's at least 12 drinks a week.   \n",
              "              1                               Something like that.   \n",
              "              2  Okay. Just so you know, my role, um, when we t...   \n",
              "              3                                              Okay.   \n",
              "              4  Uh, what else can you tell me about your drink...   \n",
              "\n",
              "                                                         context/0  \\\n",
              "transcript_id                                                        \n",
              "0             0          Usually three drinks and glasses of wine.   \n",
              "              1            Okay. That's at least 12 drinks a week.   \n",
              "              2                               Something like that.   \n",
              "              3  Okay. Just so you know, my role, um, when we t...   \n",
              "              4                                              Okay.   \n",
              "\n",
              "                                                         context/1  \\\n",
              "transcript_id                                                        \n",
              "0             0  -and you usually have three to four drinks whe...   \n",
              "              1          Usually three drinks and glasses of wine.   \n",
              "              2            Okay. That's at least 12 drinks a week.   \n",
              "              3                               Something like that.   \n",
              "              4  Okay. Just so you know, my role, um, when we t...   \n",
              "\n",
              "                                                         context/2  \\\n",
              "transcript_id                                                        \n",
              "0             0                                            Mm-hmm.   \n",
              "              1  -and you usually have three to four drinks whe...   \n",
              "              2          Usually three drinks and glasses of wine.   \n",
              "              3            Okay. That's at least 12 drinks a week.   \n",
              "              4                               Something like that.   \n",
              "\n",
              "                                                         context/3  \\\n",
              "transcript_id                                                        \n",
              "0             0  So, let's see. It looks that you put-- You dri...   \n",
              "              1                                            Mm-hmm.   \n",
              "              2  -and you usually have three to four drinks whe...   \n",
              "              3          Usually three drinks and glasses of wine.   \n",
              "              4            Okay. That's at least 12 drinks a week.   \n",
              "\n",
              "                                                         context/4  \\\n",
              "transcript_id                                                        \n",
              "0             0                                              Sure.   \n",
              "              1  So, let's see. It looks that you put-- You dri...   \n",
              "              2                                            Mm-hmm.   \n",
              "              3  -and you usually have three to four drinks whe...   \n",
              "              4          Usually three drinks and glasses of wine.   \n",
              "\n",
              "                                                         context/5  \n",
              "transcript_id                                                       \n",
              "0             0  Thanks for filling it out. We give this form t...  \n",
              "              1                                              Sure.  \n",
              "              2  So, let's see. It looks that you put-- You dri...  \n",
              "              3                                            Mm-hmm.  \n",
              "              4  -and you usually have three to four drinks whe...  "
            ],
            "text/html": [
              "\n",
              "  <div id=\"df-db573e53-5273-46fd-8b4b-db95fd0e9ee3\">\n",
              "    <div class=\"colab-df-container\">\n",
              "      <div>\n",
              "<style scoped>\n",
              "    .dataframe tbody tr th:only-of-type {\n",
              "        vertical-align: middle;\n",
              "    }\n",
              "\n",
              "    .dataframe tbody tr th {\n",
              "        vertical-align: top;\n",
              "    }\n",
              "\n",
              "    .dataframe thead th {\n",
              "        text-align: right;\n",
              "    }\n",
              "</style>\n",
              "<table border=\"1\" class=\"dataframe\">\n",
              "  <thead>\n",
              "    <tr style=\"text-align: right;\">\n",
              "      <th></th>\n",
              "      <th></th>\n",
              "      <th>response</th>\n",
              "      <th>context</th>\n",
              "      <th>context/0</th>\n",
              "      <th>context/1</th>\n",
              "      <th>context/2</th>\n",
              "      <th>context/3</th>\n",
              "      <th>context/4</th>\n",
              "      <th>context/5</th>\n",
              "    </tr>\n",
              "    <tr>\n",
              "      <th>transcript_id</th>\n",
              "      <th></th>\n",
              "      <th></th>\n",
              "      <th></th>\n",
              "      <th></th>\n",
              "      <th></th>\n",
              "      <th></th>\n",
              "      <th></th>\n",
              "      <th></th>\n",
              "      <th></th>\n",
              "    </tr>\n",
              "  </thead>\n",
              "  <tbody>\n",
              "    <tr>\n",
              "      <th rowspan=\"5\" valign=\"top\">0</th>\n",
              "      <th>0</th>\n",
              "      <td>Something like that.</td>\n",
              "      <td>Okay. That's at least 12 drinks a week.</td>\n",
              "      <td>Usually three drinks and glasses of wine.</td>\n",
              "      <td>-and you usually have three to four drinks whe...</td>\n",
              "      <td>Mm-hmm.</td>\n",
              "      <td>So, let's see. It looks that you put-- You dri...</td>\n",
              "      <td>Sure.</td>\n",
              "      <td>Thanks for filling it out. We give this form t...</td>\n",
              "    </tr>\n",
              "    <tr>\n",
              "      <th>1</th>\n",
              "      <td>Okay. Just so you know, my role, um, when we t...</td>\n",
              "      <td>Something like that.</td>\n",
              "      <td>Okay. That's at least 12 drinks a week.</td>\n",
              "      <td>Usually three drinks and glasses of wine.</td>\n",
              "      <td>-and you usually have three to four drinks whe...</td>\n",
              "      <td>Mm-hmm.</td>\n",
              "      <td>So, let's see. It looks that you put-- You dri...</td>\n",
              "      <td>Sure.</td>\n",
              "    </tr>\n",
              "    <tr>\n",
              "      <th>2</th>\n",
              "      <td>Okay.</td>\n",
              "      <td>Okay. Just so you know, my role, um, when we t...</td>\n",
              "      <td>Something like that.</td>\n",
              "      <td>Okay. That's at least 12 drinks a week.</td>\n",
              "      <td>Usually three drinks and glasses of wine.</td>\n",
              "      <td>-and you usually have three to four drinks whe...</td>\n",
              "      <td>Mm-hmm.</td>\n",
              "      <td>So, let's see. It looks that you put-- You dri...</td>\n",
              "    </tr>\n",
              "    <tr>\n",
              "      <th>3</th>\n",
              "      <td>Uh, what else can you tell me about your drink...</td>\n",
              "      <td>Okay.</td>\n",
              "      <td>Okay. Just so you know, my role, um, when we t...</td>\n",
              "      <td>Something like that.</td>\n",
              "      <td>Okay. That's at least 12 drinks a week.</td>\n",
              "      <td>Usually three drinks and glasses of wine.</td>\n",
              "      <td>-and you usually have three to four drinks whe...</td>\n",
              "      <td>Mm-hmm.</td>\n",
              "    </tr>\n",
              "    <tr>\n",
              "      <th>4</th>\n",
              "      <td>Well, I usually drink when I'm at home trying ...</td>\n",
              "      <td>Uh, what else can you tell me about your drink...</td>\n",
              "      <td>Okay.</td>\n",
              "      <td>Okay. Just so you know, my role, um, when we t...</td>\n",
              "      <td>Something like that.</td>\n",
              "      <td>Okay. That's at least 12 drinks a week.</td>\n",
              "      <td>Usually three drinks and glasses of wine.</td>\n",
              "      <td>-and you usually have three to four drinks whe...</td>\n",
              "    </tr>\n",
              "  </tbody>\n",
              "</table>\n",
              "</div>\n",
              "      <button class=\"colab-df-convert\" onclick=\"convertToInteractive('df-db573e53-5273-46fd-8b4b-db95fd0e9ee3')\"\n",
              "              title=\"Convert this dataframe to an interactive table.\"\n",
              "              style=\"display:none;\">\n",
              "        \n",
              "  <svg xmlns=\"http://www.w3.org/2000/svg\" height=\"24px\"viewBox=\"0 0 24 24\"\n",
              "       width=\"24px\">\n",
              "    <path d=\"M0 0h24v24H0V0z\" fill=\"none\"/>\n",
              "    <path d=\"M18.56 5.44l.94 2.06.94-2.06 2.06-.94-2.06-.94-.94-2.06-.94 2.06-2.06.94zm-11 1L8.5 8.5l.94-2.06 2.06-.94-2.06-.94L8.5 2.5l-.94 2.06-2.06.94zm10 10l.94 2.06.94-2.06 2.06-.94-2.06-.94-.94-2.06-.94 2.06-2.06.94z\"/><path d=\"M17.41 7.96l-1.37-1.37c-.4-.4-.92-.59-1.43-.59-.52 0-1.04.2-1.43.59L10.3 9.45l-7.72 7.72c-.78.78-.78 2.05 0 2.83L4 21.41c.39.39.9.59 1.41.59.51 0 1.02-.2 1.41-.59l7.78-7.78 2.81-2.81c.8-.78.8-2.07 0-2.86zM5.41 20L4 18.59l7.72-7.72 1.47 1.35L5.41 20z\"/>\n",
              "  </svg>\n",
              "      </button>\n",
              "      \n",
              "  <style>\n",
              "    .colab-df-container {\n",
              "      display:flex;\n",
              "      flex-wrap:wrap;\n",
              "      gap: 12px;\n",
              "    }\n",
              "\n",
              "    .colab-df-convert {\n",
              "      background-color: #E8F0FE;\n",
              "      border: none;\n",
              "      border-radius: 50%;\n",
              "      cursor: pointer;\n",
              "      display: none;\n",
              "      fill: #1967D2;\n",
              "      height: 32px;\n",
              "      padding: 0 0 0 0;\n",
              "      width: 32px;\n",
              "    }\n",
              "\n",
              "    .colab-df-convert:hover {\n",
              "      background-color: #E2EBFA;\n",
              "      box-shadow: 0px 1px 2px rgba(60, 64, 67, 0.3), 0px 1px 3px 1px rgba(60, 64, 67, 0.15);\n",
              "      fill: #174EA6;\n",
              "    }\n",
              "\n",
              "    [theme=dark] .colab-df-convert {\n",
              "      background-color: #3B4455;\n",
              "      fill: #D2E3FC;\n",
              "    }\n",
              "\n",
              "    [theme=dark] .colab-df-convert:hover {\n",
              "      background-color: #434B5C;\n",
              "      box-shadow: 0px 1px 3px 1px rgba(0, 0, 0, 0.15);\n",
              "      filter: drop-shadow(0px 1px 2px rgba(0, 0, 0, 0.3));\n",
              "      fill: #FFFFFF;\n",
              "    }\n",
              "  </style>\n",
              "\n",
              "      <script>\n",
              "        const buttonEl =\n",
              "          document.querySelector('#df-db573e53-5273-46fd-8b4b-db95fd0e9ee3 button.colab-df-convert');\n",
              "        buttonEl.style.display =\n",
              "          google.colab.kernel.accessAllowed ? 'block' : 'none';\n",
              "\n",
              "        async function convertToInteractive(key) {\n",
              "          const element = document.querySelector('#df-db573e53-5273-46fd-8b4b-db95fd0e9ee3');\n",
              "          const dataTable =\n",
              "            await google.colab.kernel.invokeFunction('convertToInteractive',\n",
              "                                                     [key], {});\n",
              "          if (!dataTable) return;\n",
              "\n",
              "          const docLinkHtml = 'Like what you see? Visit the ' +\n",
              "            '<a target=\"_blank\" href=https://colab.research.google.com/notebooks/data_table.ipynb>data table notebook</a>'\n",
              "            + ' to learn more about interactive tables.';\n",
              "          element.innerHTML = '';\n",
              "          dataTable['output_type'] = 'display_data';\n",
              "          await google.colab.output.renderOutput(dataTable, element);\n",
              "          const docLink = document.createElement('div');\n",
              "          docLink.innerHTML = docLinkHtml;\n",
              "          element.appendChild(docLink);\n",
              "        }\n",
              "      </script>\n",
              "    </div>\n",
              "  </div>\n",
              "  "
            ]
          },
          "metadata": {},
          "execution_count": 9
        }
      ]
    }
  ]
}